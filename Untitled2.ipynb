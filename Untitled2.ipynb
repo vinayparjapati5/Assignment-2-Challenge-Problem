{
  "nbformat": 4,
  "nbformat_minor": 0,
  "metadata": {
    "colab": {
      "provenance": [],
      "authorship_tag": "ABX9TyNWefoxjulNiahMoqOni1bg",
      "include_colab_link": true
    },
    "kernelspec": {
      "name": "python3",
      "display_name": "Python 3"
    },
    "language_info": {
      "name": "python"
    }
  },
  "cells": [
    {
      "cell_type": "markdown",
      "metadata": {
        "id": "view-in-github",
        "colab_type": "text"
      },
      "source": [
        "<a href=\"https://colab.research.google.com/github/vinayparjapati5/Assignment-2-Challenge-Problem/blob/main/Untitled2.ipynb\" target=\"_parent\"><img src=\"https://colab.research.google.com/assets/colab-badge.svg\" alt=\"Open In Colab\"/></a>"
      ]
    },
    {
      "cell_type": "markdown",
      "source": [
        "---\n",
        "# Challenge Question\n",
        "---\n",
        "\n",
        "### Write a python program to sort the list of heterogeneous data.\n",
        "### e.g. L = [\"Ram\", 1, \"Shyam\", 2, \"Aman\", 3]\n",
        "### print(L)\n",
        "### L.sort()\n",
        "### print(L)\n",
        "### Above code gives error. Correct it\n",
        "---"
      ],
      "metadata": {
        "id": "MzPwtKueIkYW"
      }
    },
    {
      "cell_type": "markdown",
      "source": [
        "---\n",
        "### Correct Solution is\n",
        "---"
      ],
      "metadata": {
        "id": "-nZzgQ7HKXMd"
      }
    },
    {
      "cell_type": "code",
      "execution_count": 1,
      "metadata": {
        "colab": {
          "base_uri": "https://localhost:8080/"
        },
        "id": "qUg2MbfoIZ92",
        "outputId": "d7157029-0f02-4029-b9f8-4ecbf317b2ad"
      },
      "outputs": [
        {
          "output_type": "stream",
          "name": "stdout",
          "text": [
            "Sorted Heterogenous Data is : [1, 2, 3, 'Aman', 'Ram', 'Shyam']\n"
          ]
        }
      ],
      "source": [
        "L = [\"Ram\", 1, \"Shyam\", 2, \"Aman\", 3]\n",
        "L_int=[]\n",
        "L_char=[]\n",
        "for i in L:\n",
        "  try:\n",
        "    L_int.append(int(i))\n",
        "  except:\n",
        "    L_char.append(i)\n",
        "\n",
        "L_int.sort()\n",
        "L_char.sort()\n",
        "L = L_int+ L_char\n",
        "print(\"Sorted Heterogenous Data is :\",L)"
      ]
    }
  ]
}